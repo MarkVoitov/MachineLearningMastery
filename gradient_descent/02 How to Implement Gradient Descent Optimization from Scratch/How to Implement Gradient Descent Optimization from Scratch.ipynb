{
 "cells": [
  {
   "cell_type": "code",
   "execution_count": 1,
   "metadata": {},
   "outputs": [],
   "source": [
    "import numpy as np\n",
    "import matplotlib.pyplot as plt"
   ]
  },
  {
   "cell_type": "code",
   "execution_count": 2,
   "metadata": {},
   "outputs": [],
   "source": [
    "# objective function\n",
    "def objective(x):\n",
    "    return x ** 2"
   ]
  },
  {
   "cell_type": "code",
   "execution_count": 3,
   "metadata": {},
   "outputs": [],
   "source": [
    "# define range for input\n",
    "r_min, r_max = -1, 1\n",
    "# sample input range uniformly at 0.1 increments\n",
    "inputs = np.arange(r_min, r_max + 0.1, 0.1)\n",
    "# compute targets\n",
    "result = objective(inputs)"
   ]
  },
  {
   "cell_type": "code",
   "execution_count": 4,
   "metadata": {},
   "outputs": [
    {
     "data": {
      "text/plain": [
       "array([-1.00000000e+00, -9.00000000e-01, -8.00000000e-01, -7.00000000e-01,\n",
       "       -6.00000000e-01, -5.00000000e-01, -4.00000000e-01, -3.00000000e-01,\n",
       "       -2.00000000e-01, -1.00000000e-01, -2.22044605e-16,  1.00000000e-01,\n",
       "        2.00000000e-01,  3.00000000e-01,  4.00000000e-01,  5.00000000e-01,\n",
       "        6.00000000e-01,  7.00000000e-01,  8.00000000e-01,  9.00000000e-01,\n",
       "        1.00000000e+00])"
      ]
     },
     "execution_count": 4,
     "metadata": {},
     "output_type": "execute_result"
    }
   ],
   "source": [
    "inputs"
   ]
  },
  {
   "cell_type": "code",
   "execution_count": 5,
   "metadata": {},
   "outputs": [
    {
     "data": {
      "text/plain": [
       "array([1.00000000e+00, 8.10000000e-01, 6.40000000e-01, 4.90000000e-01,\n",
       "       3.60000000e-01, 2.50000000e-01, 1.60000000e-01, 9.00000000e-02,\n",
       "       4.00000000e-02, 1.00000000e-02, 4.93038066e-32, 1.00000000e-02,\n",
       "       4.00000000e-02, 9.00000000e-02, 1.60000000e-01, 2.50000000e-01,\n",
       "       3.60000000e-01, 4.90000000e-01, 6.40000000e-01, 8.10000000e-01,\n",
       "       1.00000000e+00])"
      ]
     },
     "execution_count": 5,
     "metadata": {},
     "output_type": "execute_result"
    }
   ],
   "source": [
    "result"
   ]
  },
  {
   "cell_type": "code",
   "execution_count": 6,
   "metadata": {},
   "outputs": [
    {
     "data": {
      "image/png": "[encoded data removed]",
      "text/plain": [
       "<Figure size 432x288 with 1 Axes>"
      ]
     },
     "metadata": {
      "needs_background": "light"
     },
     "output_type": "display_data"
    }
   ],
   "source": [
    "# create a line plot of input vs result\n",
    "plt.plot(inputs, result)\n",
    "plt.show()"
   ]
  },
  {
   "cell_type": "code",
   "execution_count": 7,
   "metadata": {},
   "outputs": [],
   "source": [
    "# derivative of objective function\n",
    "def derivative(x):\n",
    "    return x * 2"
   ]
  },
  {
   "cell_type": "code",
   "execution_count": 8,
   "metadata": {},
   "outputs": [],
   "source": [
    "# gradient descent algorithm\n",
    "def gradient_descent(objective, derivative, bounds, n_iter, step_size):\n",
    "    # generate an initial point\n",
    "    solution = bounds[:, 0] + np.random.rand(len(bounds)) * (bounds[:, 1] - bounds[:, 0])\n",
    "    # run the gradient descent\n",
    "    for i in range(n_iter):\n",
    "        # calculate gradient\n",
    "        gradient = derivative(solution)\n",
    "        # take a step\n",
    "        solution = solution - step_size * gradient\n",
    "        # evaluate candidate point\n",
    "        solution_eval = objective(solution)\n",
    "        # report progress\n",
    "        print('>%d f(%s) = %.5f' % (i, solution, solution_eval))\n",
    "    return(solution, solution_eval)"
   ]
  },
  {
   "cell_type": "code",
   "execution_count": 9,
   "metadata": {},
   "outputs": [],
   "source": [
    "# define range for input\n",
    "bounds = np.asarray([[-1, 1]])\n",
    "# define the total iterations\n",
    "n_iter = 30\n",
    "# define the maximum step size\n",
    "step_size = 0.1"
   ]
  },
  {
   "cell_type": "code",
   "execution_count": 10,
   "metadata": {},
   "outputs": [
    {
     "name": "stdout",
     "output_type": "stream",
     "text": [
      ">0 f([0.54768227]) = 0.29996\n",
      ">1 f([0.43814581]) = 0.19197\n",
      ">2 f([0.35051665]) = 0.12286\n",
      ">3 f([0.28041332]) = 0.07863\n",
      ">4 f([0.22433066]) = 0.05032\n",
      ">5 f([0.17946453]) = 0.03221\n",
      ">6 f([0.14357162]) = 0.02061\n",
      ">7 f([0.1148573]) = 0.01319\n",
      ">8 f([0.09188584]) = 0.00844\n",
      ">9 f([0.07350867]) = 0.00540\n",
      ">10 f([0.05880694]) = 0.00346\n",
      ">11 f([0.04704555]) = 0.00221\n",
      ">12 f([0.03763644]) = 0.00142\n",
      ">13 f([0.03010915]) = 0.00091\n",
      ">14 f([0.02408732]) = 0.00058\n",
      ">15 f([0.01926986]) = 0.00037\n",
      ">16 f([0.01541589]) = 0.00024\n",
      ">17 f([0.01233271]) = 0.00015\n",
      ">18 f([0.00986617]) = 0.00010\n",
      ">19 f([0.00789293]) = 0.00006\n",
      ">20 f([0.00631435]) = 0.00004\n",
      ">21 f([0.00505148]) = 0.00003\n",
      ">22 f([0.00404118]) = 0.00002\n",
      ">23 f([0.00323295]) = 0.00001\n",
      ">24 f([0.00258636]) = 0.00001\n",
      ">25 f([0.00206909]) = 0.00000\n",
      ">26 f([0.00165527]) = 0.00000\n",
      ">27 f([0.00132421]) = 0.00000\n",
      ">28 f([0.00105937]) = 0.00000\n",
      ">29 f([0.0008475]) = 0.00000\n",
      "Done!\n",
      "f([0.0008475]) = 0.000001\n"
     ]
    }
   ],
   "source": [
    "# perform the gradient descent search\n",
    "best, score = gradient_descent(objective, derivative, bounds, n_iter, step_size)\n",
    "print('Done!')\n",
    "print('f(%s) = %f' % (best, score))"
   ]
  },
  {
   "cell_type": "code",
   "execution_count": 11,
   "metadata": {},
   "outputs": [],
   "source": [
    "# define the step size to large value\n",
    "step_size = 1.0"
   ]
  },
  {
   "cell_type": "code",
   "execution_count": 12,
   "metadata": {},
   "outputs": [
    {
     "name": "stdout",
     "output_type": "stream",
     "text": [
      ">0 f([-0.43552056]) = 0.18968\n",
      ">1 f([0.43552056]) = 0.18968\n",
      ">2 f([-0.43552056]) = 0.18968\n",
      ">3 f([0.43552056]) = 0.18968\n",
      ">4 f([-0.43552056]) = 0.18968\n",
      ">5 f([0.43552056]) = 0.18968\n",
      ">6 f([-0.43552056]) = 0.18968\n",
      ">7 f([0.43552056]) = 0.18968\n",
      ">8 f([-0.43552056]) = 0.18968\n",
      ">9 f([0.43552056]) = 0.18968\n",
      ">10 f([-0.43552056]) = 0.18968\n",
      ">11 f([0.43552056]) = 0.18968\n",
      ">12 f([-0.43552056]) = 0.18968\n",
      ">13 f([0.43552056]) = 0.18968\n",
      ">14 f([-0.43552056]) = 0.18968\n",
      ">15 f([0.43552056]) = 0.18968\n",
      ">16 f([-0.43552056]) = 0.18968\n",
      ">17 f([0.43552056]) = 0.18968\n",
      ">18 f([-0.43552056]) = 0.18968\n",
      ">19 f([0.43552056]) = 0.18968\n",
      ">20 f([-0.43552056]) = 0.18968\n",
      ">21 f([0.43552056]) = 0.18968\n",
      ">22 f([-0.43552056]) = 0.18968\n",
      ">23 f([0.43552056]) = 0.18968\n",
      ">24 f([-0.43552056]) = 0.18968\n",
      ">25 f([0.43552056]) = 0.18968\n",
      ">26 f([-0.43552056]) = 0.18968\n",
      ">27 f([0.43552056]) = 0.18968\n",
      ">28 f([-0.43552056]) = 0.18968\n",
      ">29 f([0.43552056]) = 0.18968\n",
      "Done!\n",
      "f([0.43552056]) = 0.189678\n"
     ]
    }
   ],
   "source": [
    "# perform the gradient descent search with new step size value\n",
    "best, score = gradient_descent(objective, derivative, bounds, n_iter, step_size)\n",
    "print('Done!')\n",
    "print('f(%s) = %f' % (best, score))"
   ]
  },
  {
   "cell_type": "code",
   "execution_count": 13,
   "metadata": {},
   "outputs": [],
   "source": [
    "# define the step size to small value\n",
    "step_size = 1e-5"
   ]
  },
  {
   "cell_type": "code",
   "execution_count": 14,
   "metadata": {},
   "outputs": [
    {
     "name": "stdout",
     "output_type": "stream",
     "text": [
      ">0 f([-0.52277107]) = 0.27329\n",
      ">1 f([-0.52276061]) = 0.27328\n",
      ">2 f([-0.52275016]) = 0.27327\n",
      ">3 f([-0.5227397]) = 0.27326\n",
      ">4 f([-0.52272925]) = 0.27325\n",
      ">5 f([-0.52271879]) = 0.27323\n",
      ">6 f([-0.52270834]) = 0.27322\n",
      ">7 f([-0.52269788]) = 0.27321\n",
      ">8 f([-0.52268743]) = 0.27320\n",
      ">9 f([-0.52267697]) = 0.27319\n",
      ">10 f([-0.52266652]) = 0.27318\n",
      ">11 f([-0.52265607]) = 0.27317\n",
      ">12 f([-0.52264561]) = 0.27316\n",
      ">13 f([-0.52263516]) = 0.27315\n",
      ">14 f([-0.52262471]) = 0.27314\n",
      ">15 f([-0.52261426]) = 0.27313\n",
      ">16 f([-0.5226038]) = 0.27311\n",
      ">17 f([-0.52259335]) = 0.27310\n",
      ">18 f([-0.5225829]) = 0.27309\n",
      ">19 f([-0.52257245]) = 0.27308\n",
      ">20 f([-0.522562]) = 0.27307\n",
      ">21 f([-0.52255155]) = 0.27306\n",
      ">22 f([-0.5225411]) = 0.27305\n",
      ">23 f([-0.52253064]) = 0.27304\n",
      ">24 f([-0.52252019]) = 0.27303\n",
      ">25 f([-0.52250974]) = 0.27302\n",
      ">26 f([-0.52249929]) = 0.27301\n",
      ">27 f([-0.52248884]) = 0.27299\n",
      ">28 f([-0.52247839]) = 0.27298\n",
      ">29 f([-0.52246794]) = 0.27297\n",
      "Done!\n",
      "f([-0.52246794]) = 0.272973\n"
     ]
    }
   ],
   "source": [
    "# perform the gradient descent search with new step size value\n",
    "best, score = gradient_descent(objective, derivative, bounds, n_iter, step_size)\n",
    "print('Done!')\n",
    "print('f(%s) = %f' % (best, score))"
   ]
  },
  {
   "cell_type": "markdown",
   "metadata": {},
   "source": [
    "Finally, we can change the learning rate back to 0.1 and visualize the progress of the search on a plot of the target function.\n",
    "\n",
    "First, we can update the gradient_descent() function to store all solutions and their score found during the optimization as lists and return them at the end of the search instead of the best solution found."
   ]
  },
  {
   "cell_type": "code",
   "execution_count": 15,
   "metadata": {},
   "outputs": [],
   "source": [
    "# gradient descent algorithm\n",
    "def gradient_descent(objective, derivative, bounds, n_iter, step_size):\n",
    "    # track all solutions\n",
    "    solutions, scores = list(), list()\n",
    "    # generate an initial point\n",
    "    solution = bounds[:, 0] + np.random.rand(len(bounds)) * (bounds[:, 1] - bounds[:, 0])\n",
    "    # run the gradient descent\n",
    "    for i in range(n_iter):\n",
    "        # calculate gradient\n",
    "        gradient = derivative(solution)\n",
    "        # take a step\n",
    "        solution = solution - step_size * gradient\n",
    "        # evaluate candidate point\n",
    "        solution_eval = objective(solution)\n",
    "        # store solution\n",
    "        solutions.append(solution)\n",
    "        scores.append(solution_eval)\n",
    "        # report progress\n",
    "        print('>%d f(%s) = %.5f' % (i, solution, solution_eval))\n",
    "    return(solutions, scores)"
   ]
  },
  {
   "cell_type": "code",
   "execution_count": 16,
   "metadata": {},
   "outputs": [],
   "source": [
    "step_size = 0.1"
   ]
  },
  {
   "cell_type": "code",
   "execution_count": 17,
   "metadata": {},
   "outputs": [
    {
     "name": "stdout",
     "output_type": "stream",
     "text": [
      ">0 f([-0.54735841]) = 0.29960\n",
      ">1 f([-0.43788672]) = 0.19174\n",
      ">2 f([-0.35030938]) = 0.12272\n",
      ">3 f([-0.2802475]) = 0.07854\n",
      ">4 f([-0.224198]) = 0.05026\n",
      ">5 f([-0.1793584]) = 0.03217\n",
      ">6 f([-0.14348672]) = 0.02059\n",
      ">7 f([-0.11478938]) = 0.01318\n",
      ">8 f([-0.0918315]) = 0.00843\n",
      ">9 f([-0.0734652]) = 0.00540\n",
      ">10 f([-0.05877216]) = 0.00345\n",
      ">11 f([-0.04701773]) = 0.00221\n",
      ">12 f([-0.03761418]) = 0.00141\n",
      ">13 f([-0.03009135]) = 0.00091\n",
      ">14 f([-0.02407308]) = 0.00058\n",
      ">15 f([-0.01925846]) = 0.00037\n",
      ">16 f([-0.01540677]) = 0.00024\n",
      ">17 f([-0.01232542]) = 0.00015\n",
      ">18 f([-0.00986033]) = 0.00010\n",
      ">19 f([-0.00788827]) = 0.00006\n",
      ">20 f([-0.00631061]) = 0.00004\n",
      ">21 f([-0.00504849]) = 0.00003\n",
      ">22 f([-0.00403879]) = 0.00002\n",
      ">23 f([-0.00323103]) = 0.00001\n",
      ">24 f([-0.00258483]) = 0.00001\n",
      ">25 f([-0.00206786]) = 0.00000\n",
      ">26 f([-0.00165429]) = 0.00000\n",
      ">27 f([-0.00132343]) = 0.00000\n",
      ">28 f([-0.00105875]) = 0.00000\n",
      ">29 f([-0.000847]) = 0.00000\n"
     ]
    }
   ],
   "source": [
    "# perform the gradient descent search\n",
    "solutions, scores = gradient_descent(objective, derivative, bounds, n_iter, step_size)"
   ]
  },
  {
   "cell_type": "code",
   "execution_count": 18,
   "metadata": {},
   "outputs": [
    {
     "data": {
      "image/png": "[encoded data removed]",
      "text/plain": [
       "<Figure size 432x288 with 1 Axes>"
      ]
     },
     "metadata": {
      "needs_background": "light"
     },
     "output_type": "display_data"
    }
   ],
   "source": [
    "# sample input range uniformly at 0.1 increments\n",
    "inputs = np.arange(bounds[0, 0], bounds[0, 1] + 0.1, 0.1)\n",
    "# compute targets\n",
    "results = objective(inputs)\n",
    "# create a line plot of input vs result\n",
    "plt.plot(inputs, results)\n",
    "# plot the solutions found\n",
    "plt.plot(solutions, scores, '.-', color='red')\n",
    "# show the plot\n",
    "plt.show()"
   ]
  },
  {
   "cell_type": "code",
   "execution_count": null,
   "metadata": {},
   "outputs": [],
   "source": []
  }
 ],
 "metadata": {
  "kernelspec": {
   "display_name": "Python 3",
   "language": "python",
   "name": "python3"
  },
  "language_info": {
   "codemirror_mode": {
    "name": "ipython",
    "version": 3
   },
   "file_extension": ".py",
   "mimetype": "text/x-python",
   "name": "python",
   "nbconvert_exporter": "python",
   "pygments_lexer": "ipython3",
   "version": "3.8.5"
  }
 },
 "nbformat": 4,
 "nbformat_minor": 4
}
