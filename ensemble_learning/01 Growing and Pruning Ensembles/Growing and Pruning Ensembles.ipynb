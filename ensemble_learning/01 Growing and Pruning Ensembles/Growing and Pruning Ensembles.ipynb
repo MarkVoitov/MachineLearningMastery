{
 "cells": [
  {
   "cell_type": "code",
   "execution_count": 26,
   "metadata": {},
   "outputs": [],
   "source": [
    "from sklearn.datasets import make_classification\n",
    "from sklearn.model_selection import cross_val_score\n",
    "from sklearn.model_selection import RepeatedStratifiedKFold\n",
    "from sklearn.linear_model import LogisticRegression\n",
    "from sklearn.neighbors import KNeighborsClassifier\n",
    "from sklearn.tree import DecisionTreeClassifier\n",
    "from sklearn.svm import SVC\n",
    "from sklearn.naive_bayes import GaussianNB\n",
    "from sklearn.ensemble import VotingClassifier\n",
    "\n",
    "import numpy as np\n",
    "import matplotlib.pyplot as plt"
   ]
  },
  {
   "cell_type": "markdown",
   "metadata": {},
   "source": [
    "### Baseline Models and Voting"
   ]
  },
  {
   "cell_type": "code",
   "execution_count": 27,
   "metadata": {},
   "outputs": [],
   "source": [
    "# get the dataset\n",
    "def get_dataset():\n",
    "    X, y = make_classification(n_samples=5000, n_features=20, n_informative=10, n_redundant=10, random_state=1)\n",
    "    return X, y"
   ]
  },
  {
   "cell_type": "code",
   "execution_count": 28,
   "metadata": {},
   "outputs": [
    {
     "name": "stdout",
     "output_type": "stream",
     "text": [
      "(5000, 20) (5000,)\n"
     ]
    }
   ],
   "source": [
    "# summarize the dataset\n",
    "print(X.shape, y.shape)"
   ]
  },
  {
   "cell_type": "code",
   "execution_count": 29,
   "metadata": {},
   "outputs": [],
   "source": [
    "# define dataset\n",
    "X, y = get_dataset()"
   ]
  },
  {
   "cell_type": "code",
   "execution_count": 30,
   "metadata": {},
   "outputs": [],
   "source": [
    "# get a list of models to evaluate\n",
    "def get_models():\n",
    "    models = list()\n",
    "    models.append(('lr', LogisticRegression()))\n",
    "    models.append(('knn', KNeighborsClassifier()))\n",
    "    models.append(('tree', DecisionTreeClassifier()))\n",
    "    models.append(('nb', GaussianNB()))\n",
    "    models.append(('svm', SVC(probability=True)))\n",
    "    return models"
   ]
  },
  {
   "cell_type": "code",
   "execution_count": 31,
   "metadata": {},
   "outputs": [],
   "source": [
    "# get the models to evaluate\n",
    "models = get_models()"
   ]
  },
  {
   "cell_type": "code",
   "execution_count": 32,
   "metadata": {},
   "outputs": [
    {
     "name": "stdout",
     "output_type": "stream",
     "text": [
      ">lr 0.856 (0.014)\n",
      ">knn 0.953 (0.008)\n",
      ">tree 0.867 (0.014)\n",
      ">nb 0.847 (0.021)\n",
      ">svm 0.953 (0.010)\n"
     ]
    }
   ],
   "source": [
    "# evaluate the models and store results\n",
    "results, names = list(), list()\n",
    "for name, model in models:\n",
    "    # evaluate model\n",
    "    scores = evaluate_model(model, X, y)\n",
    "    # store results\n",
    "    results.append(scores)\n",
    "    names.append(name)\n",
    "    # summarize result\n",
    "    print('>%s %.3f (%.3f)' % (name, np.mean(scores), np.std(scores)))"
   ]
  },
  {
   "cell_type": "code",
   "execution_count": 33,
   "metadata": {},
   "outputs": [
    {
     "data": {
      "image/png": "[encoded data removed]",
      "text/plain": [
       "<Figure size 432x288 with 1 Axes>"
      ]
     },
     "metadata": {
      "needs_background": "light"
     },
     "output_type": "display_data"
    }
   ],
   "source": [
    "# plot model performance for comparison\n",
    "plt.boxplot(results, labels=names, showmeans=True)\n",
    "plt.show()"
   ]
  },
  {
   "cell_type": "code",
   "execution_count": 34,
   "metadata": {},
   "outputs": [],
   "source": [
    "# create the ensemble\n",
    "ensemble = VotingClassifier(estimators=models, voting='soft')"
   ]
  },
  {
   "cell_type": "code",
   "execution_count": 35,
   "metadata": {},
   "outputs": [],
   "source": [
    "# define the evaluation procedure\n",
    "cv = RepeatedStratifiedKFold(n_splits=10, n_repeats=3, random_state=1)"
   ]
  },
  {
   "cell_type": "code",
   "execution_count": 36,
   "metadata": {},
   "outputs": [],
   "source": [
    "# evaluate the ensemble\n",
    "scores = cross_val_score(ensemble, X, y, scoring='accuracy', cv=cv, n_jobs=-1)"
   ]
  },
  {
   "cell_type": "code",
   "execution_count": 37,
   "metadata": {},
   "outputs": [
    {
     "name": "stdout",
     "output_type": "stream",
     "text": [
      "Mean Accuracy: 0.928 (0.013)\n"
     ]
    }
   ],
   "source": [
    "# summarize the result\n",
    "print('Mean Accuracy: %.3f (%.3f)' % (np.mean(scores), np.std(scores)))"
   ]
  },
  {
   "cell_type": "markdown",
   "metadata": {},
   "source": [
    "### Ensemble Pruning Example"
   ]
  },
  {
   "cell_type": "code",
   "execution_count": 38,
   "metadata": {},
   "outputs": [],
   "source": [
    "# evaluate a list of models\n",
    "def evaluate_ensemble(models, X, y):\n",
    "    # check for no models\n",
    "    if len(models) == 0:\n",
    "        return 0.0\n",
    "    # create the ensemble\n",
    "    ensemble = VotingClassifier(estimators=models, voting='soft')\n",
    "    # define the evaluation procedure\n",
    "    cv = RepeatedStratifiedKFold(n_splits=10, n_repeats=3, random_state=1)\n",
    "    # evaluate the ensemble\n",
    "    scores = cross_val_score(ensemble, X, y, scoring='accuracy', cv=cv, n_jobs=-1)\n",
    "    # return mean score\n",
    "    return np.mean(scores)"
   ]
  },
  {
   "cell_type": "code",
   "execution_count": 39,
   "metadata": {},
   "outputs": [],
   "source": [
    "# perform a single round of pruning the ensemble\n",
    "def prune_round(models_in, X, y):\n",
    "    # establish a baseline\n",
    "    baseline = evaluate_ensemble(models_in, X, y)\n",
    "    best_score, removed = baseline, None\n",
    "    # enumerate removing each candidate and see if we can improve performance\n",
    "    for m in models_in:\n",
    "        # copy the list of chosen models\n",
    "        dup = models_in.copy()\n",
    "        # remove this model\n",
    "        dup.remove(m)\n",
    "        # evaluate new ensemble\n",
    "        result = evaluate_ensemble(dup, X, y)\n",
    "        # check for new best\n",
    "        if result > best_score:\n",
    "            # store the new best\n",
    "            best_score, removed = result, m\n",
    "    return best_score, removed"
   ]
  },
  {
   "cell_type": "code",
   "execution_count": 40,
   "metadata": {},
   "outputs": [],
   "source": [
    "# prune an ensemble from scratch\n",
    "def prune_ensemble(models, X, y):\n",
    "    best_score = 0.0\n",
    "    # prune ensemble until no further improvement\n",
    "    while True:\n",
    "        # remove one model to the ensemble\n",
    "        score, removed = prune_round(models, X, y)\n",
    "        # check for no improvement\n",
    "        if removed is None:\n",
    "            print('>no further improvement')\n",
    "            break\n",
    "        # keep track of best score\n",
    "        best_score = score\n",
    "        # remove model from the list\n",
    "        models.remove(removed)\n",
    "        # report results along the way\n",
    "        print('>%.3f (removed: %s)' % (score, removed[0]))\n",
    "    return best_score, models"
   ]
  },
  {
   "cell_type": "code",
   "execution_count": 41,
   "metadata": {},
   "outputs": [
    {
     "name": "stdout",
     "output_type": "stream",
     "text": [
      ">0.940 (removed: nb)\n",
      ">0.948 (removed: tree)\n",
      ">0.956 (removed: lr)\n",
      ">no further improvement\n",
      "Models: knn,svm\n",
      "Final Mean Accuracy: 0.956\n"
     ]
    }
   ],
   "source": [
    "# prune the ensemble\n",
    "score, model_list = prune_ensemble(models, X, y)\n",
    "names = ','.join([n for n,_ in model_list])\n",
    "print('Models: %s' % names)\n",
    "print('Final Mean Accuracy: %.3f' % score)"
   ]
  },
  {
   "cell_type": "markdown",
   "metadata": {},
   "source": [
    "### Ensemble Growing Example"
   ]
  },
  {
   "cell_type": "code",
   "execution_count": 42,
   "metadata": {},
   "outputs": [],
   "source": [
    "# perform a single round of growing the ensemble\n",
    "def grow_round(models_in, models_candidate, X, y):\n",
    "    # establish a baseline\n",
    "    baseline = evaluate_ensemble(models_in, X, y)\n",
    "    best_score, addition = baseline, None\n",
    "    # enumerate adding each candidate and see if we can improve performance\n",
    "    for m in models_candidate:\n",
    "        # copy the list of chosen models\n",
    "        dup = models_in.copy()\n",
    "        # add the candidate\n",
    "        dup.append(m)\n",
    "        # evaluate new ensemble\n",
    "        result = evaluate_ensemble(dup, X, y)\n",
    "        # check for new best\n",
    "        if result > best_score:\n",
    "            # store the new best\n",
    "            best_score, addition = result, m\n",
    "    return best_score, addition"
   ]
  },
  {
   "cell_type": "code",
   "execution_count": 43,
   "metadata": {},
   "outputs": [],
   "source": [
    "# grow an ensemble from scratch\n",
    "def grow_ensemble(models, X, y):\n",
    "    best_score, best_list = 0.0, list()\n",
    "    # grow ensemble until no further improvement\n",
    "    while True:\n",
    "        # add one model to the ensemble\n",
    "        score, addition = grow_round(best_list, models, X, y)\n",
    "        # check for no improvement\n",
    "        if addition is None:\n",
    "            print('>no further improvement')\n",
    "            break\n",
    "        # keep track of best score\n",
    "        best_score = score\n",
    "        # remove new model from the list of candidates\n",
    "        models.remove(addition)\n",
    "        # add new model to the list of models in the ensemble\n",
    "        best_list.append(addition)\n",
    "        # report results along the way\n",
    "        names = ','.join([n for n,_ in best_list])\n",
    "        print('>%.3f (%s)' % (score, names))\n",
    "    return best_score, best_list"
   ]
  },
  {
   "cell_type": "code",
   "execution_count": 44,
   "metadata": {},
   "outputs": [
    {
     "name": "stdout",
     "output_type": "stream",
     "text": [
      ">0.953 (svm)\n",
      ">0.956 (svm,knn)\n",
      ">no further improvement\n",
      "Models: svm,knn\n",
      "Final Mean Accuracy: 0.956\n"
     ]
    }
   ],
   "source": [
    "# grow the ensemble\n",
    "score, model_list = grow_ensemble(models, X, y)\n",
    "names = ','.join([n for n,_ in model_list])\n",
    "print('Models: %s' % names)\n",
    "print('Final Mean Accuracy: %.3f' % score)"
   ]
  },
  {
   "cell_type": "code",
   "execution_count": null,
   "metadata": {},
   "outputs": [],
   "source": []
  }
 ],
 "metadata": {
  "kernelspec": {
   "display_name": "Python 3",
   "language": "python",
   "name": "python3"
  },
  "language_info": {
   "codemirror_mode": {
    "name": "ipython",
    "version": 3
   },
   "file_extension": ".py",
   "mimetype": "text/x-python",
   "name": "python",
   "nbconvert_exporter": "python",
   "pygments_lexer": "ipython3",
   "version": "3.8.5"
  }
 },
 "nbformat": 4,
 "nbformat_minor": 4
}
